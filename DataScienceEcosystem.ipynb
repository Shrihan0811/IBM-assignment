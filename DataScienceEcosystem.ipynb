{
 "cells": [
  {
   "cell_type": "markdown",
   "id": "7d14dd91-4b66-40b8-9288-cdb6cd5aeb93",
   "metadata": {},
   "source": [
    "# Data Science Tools and Ecosystem"
   ]
  },
  {
   "cell_type": "markdown",
   "id": "b521410b-944d-48d4-870e-3c2ab9ca5573",
   "metadata": {},
   "source": [
    "# In this notebook, Data Science Tools and Ecosystem are summarized."
   ]
  },
  {
   "cell_type": "markdown",
   "id": "41866f17-5211-43ba-834e-abb3f100a065",
   "metadata": {},
   "source": [
    "## Objectives:\n",
    "* List popular languages for Data Science\n",
    "* Some of the commonly used libraries used by Data Scientists include:\n",
    "* Below are a few examples of evaluating arithmetic expressions in Python"
   ]
  },
  {
   "cell_type": "markdown",
   "id": "17ef521a-cf80-47e1-8582-16b619b88b3d",
   "metadata": {},
   "source": [
    "## Some of the popular languages that Data Scientists use are:\n",
    "### 1. Python\n",
    "### 2. R\n",
    "### 3. SQL"
   ]
  },
  {
   "cell_type": "markdown",
   "id": "83b76f65-0f36-4401-b95f-ad3055ba8672",
   "metadata": {},
   "source": [
    "## Some of the commonly used libraries used by Data Scientists include:\n",
    "## 1. Pandas\n",
    "## 2. NumPy\n",
    "## 3. Matplotlib"
   ]
  },
  {
   "cell_type": "markdown",
   "id": "4c5434fc-d8d1-4800-8221-2802c3fef470",
   "metadata": {},
   "source": [
    "| Data Science Tools |\n",
    "| ------------------ |\n",
    "| R studio |\n",
    "| Jupyter Notebook |\n",
    "| GitHub |"
   ]
  },
  {
   "cell_type": "markdown",
   "id": "c861cde8-5739-4f7f-aef3-ba5d9dcf4f41",
   "metadata": {
    "tags": []
   },
   "source": [
    "### Below are a few examples of evaluating arithmetic expressions in Python\n",
    "\n"
   ]
  },
  {
   "cell_type": "code",
   "execution_count": 3,
   "id": "21ff001d-f9ef-4bb7-8530-ee8874aae1f0",
   "metadata": {
    "tags": []
   },
   "outputs": [
    {
     "name": "stdout",
     "output_type": "stream",
     "text": [
      "19\n",
      "90\n",
      "1\n"
     ]
    }
   ],
   "source": [
    "a=10\n",
    "b=9\n",
    "print(a+b)\n",
    "print(a*b)\n",
    "print(a-b)"
   ]
  },
  {
   "cell_type": "markdown",
   "id": "52677337-ab7f-4728-b46e-a104ba5bb9ca",
   "metadata": {},
   "source": [
    "### This a simple arithmetic expression to mutiply then add integers"
   ]
  },
  {
   "cell_type": "code",
   "execution_count": 4,
   "id": "b206bfbd-a923-43ba-a74a-f782cbdc8822",
   "metadata": {
    "tags": []
   },
   "outputs": [
    {
     "name": "stdout",
     "output_type": "stream",
     "text": [
      "17\n"
     ]
    }
   ],
   "source": [
    "print((3*4)+5)"
   ]
  },
  {
   "cell_type": "markdown",
   "id": "3c177859-548b-46ac-baf3-6e84d07d2cf0",
   "metadata": {},
   "source": [
    "### This will convert 200 minutes to hours by diving by 60"
   ]
  },
  {
   "cell_type": "code",
   "execution_count": 5,
   "id": "0e2dfa14-ca6a-41aa-8c5e-f5f29501f060",
   "metadata": {
    "tags": []
   },
   "outputs": [
    {
     "name": "stdout",
     "output_type": "stream",
     "text": [
      "3.3333333333333335\n"
     ]
    }
   ],
   "source": [
    "print(200/60)"
   ]
  },
  {
   "cell_type": "markdown",
   "id": "8443d686-82fc-4e2c-9fd0-e8fdb7399726",
   "metadata": {},
   "source": [
    "## Author: Shrihan Thokala"
   ]
  },
  {
   "cell_type": "code",
   "execution_count": null,
   "id": "4ee702b1-fce9-40b1-a5b5-dd0d03f2d422",
   "metadata": {},
   "outputs": [],
   "source": []
  }
 ],
 "metadata": {
  "kernelspec": {
   "display_name": "Python",
   "language": "python",
   "name": "conda-env-python-py"
  },
  "language_info": {
   "codemirror_mode": {
    "name": "ipython",
    "version": 3
   },
   "file_extension": ".py",
   "mimetype": "text/x-python",
   "name": "python",
   "nbconvert_exporter": "python",
   "pygments_lexer": "ipython3",
   "version": "3.7.12"
  }
 },
 "nbformat": 4,
 "nbformat_minor": 5
}
